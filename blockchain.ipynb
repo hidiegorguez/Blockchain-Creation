{
 "cells": [
  {
   "cell_type": "markdown",
   "metadata": {},
   "source": [
    "# Creación de una Blockchain con Python\n",
    "\n",
    "Diego Rodríguez García. 15/10/2023."
   ]
  },
  {
   "cell_type": "markdown",
   "metadata": {},
   "source": [
    "## 1. Ajustes"
   ]
  },
  {
   "cell_type": "markdown",
   "metadata": {},
   "source": [
    "#### Instalaciones"
   ]
  },
  {
   "cell_type": "code",
   "execution_count": 21,
   "metadata": {},
   "outputs": [
    {
     "name": "stdout",
     "output_type": "stream",
     "text": [
      "Requirement already satisfied: flask in c:\\users\\diego\\anaconda3\\lib\\site-packages (1.1.2)\n",
      "Requirement already satisfied: Jinja2>=2.10.1 in c:\\users\\diego\\anaconda3\\lib\\site-packages (from flask) (3.1.2)\n",
      "Requirement already satisfied: itsdangerous>=0.24 in c:\\users\\diego\\anaconda3\\lib\\site-packages (from flask) (2.1.2)\n",
      "Requirement already satisfied: click>=5.1 in c:\\users\\diego\\anaconda3\\lib\\site-packages (from flask) (8.1.7)\n",
      "Requirement already satisfied: Werkzeug>=0.15 in c:\\users\\diego\\anaconda3\\lib\\site-packages (from flask) (3.0.1)\n",
      "Requirement already satisfied: colorama in c:\\users\\diego\\anaconda3\\lib\\site-packages (from click>=5.1->flask) (0.4.6)\n",
      "Requirement already satisfied: MarkupSafe>=2.0 in c:\\users\\diego\\anaconda3\\lib\\site-packages (from Jinja2>=2.10.1->flask) (2.1.1)\n"
     ]
    }
   ],
   "source": [
    "# !pip install flask"
   ]
  },
  {
   "cell_type": "code",
   "execution_count": 22,
   "metadata": {},
   "outputs": [
    {
     "name": "stdout",
     "output_type": "stream",
     "text": [
      "Requirement already satisfied: flask-ngrok in c:\\users\\diego\\anaconda3\\lib\\site-packages (0.0.25)\n",
      "Requirement already satisfied: requests in c:\\users\\diego\\anaconda3\\lib\\site-packages (from flask-ngrok) (2.25.1)\n",
      "Requirement already satisfied: Flask>=0.8 in c:\\users\\diego\\anaconda3\\lib\\site-packages (from flask-ngrok) (1.1.2)\n",
      "Requirement already satisfied: Werkzeug>=0.15 in c:\\users\\diego\\anaconda3\\lib\\site-packages (from Flask>=0.8->flask-ngrok) (3.0.1)\n",
      "Requirement already satisfied: Jinja2>=2.10.1 in c:\\users\\diego\\anaconda3\\lib\\site-packages (from Flask>=0.8->flask-ngrok) (3.1.2)\n",
      "Requirement already satisfied: itsdangerous>=0.24 in c:\\users\\diego\\anaconda3\\lib\\site-packages (from Flask>=0.8->flask-ngrok) (2.1.2)\n",
      "Requirement already satisfied: click>=5.1 in c:\\users\\diego\\anaconda3\\lib\\site-packages (from Flask>=0.8->flask-ngrok) (8.1.7)\n",
      "Requirement already satisfied: chardet<5,>=3.0.2 in c:\\users\\diego\\anaconda3\\lib\\site-packages (from requests->flask-ngrok) (4.0.0)\n",
      "Requirement already satisfied: certifi>=2017.4.17 in c:\\users\\diego\\anaconda3\\lib\\site-packages (from requests->flask-ngrok) (2023.7.22)\n",
      "Requirement already satisfied: idna<3,>=2.5 in c:\\users\\diego\\anaconda3\\lib\\site-packages (from requests->flask-ngrok) (2.10)\n",
      "Requirement already satisfied: urllib3<1.27,>=1.21.1 in c:\\users\\diego\\anaconda3\\lib\\site-packages (from requests->flask-ngrok) (1.26.14)\n",
      "Requirement already satisfied: colorama in c:\\users\\diego\\anaconda3\\lib\\site-packages (from click>=5.1->Flask>=0.8->flask-ngrok) (0.4.6)\n",
      "Requirement already satisfied: MarkupSafe>=2.0 in c:\\users\\diego\\anaconda3\\lib\\site-packages (from Jinja2>=2.10.1->Flask>=0.8->flask-ngrok) (2.1.1)\n"
     ]
    }
   ],
   "source": [
    "# !pip install flask-ngrok"
   ]
  },
  {
   "cell_type": "code",
   "execution_count": 23,
   "metadata": {},
   "outputs": [
    {
     "name": "stdout",
     "output_type": "stream",
     "text": [
      "Requirement already satisfied: requests in c:\\users\\diego\\anaconda3\\lib\\site-packages (2.25.1)\n",
      "Requirement already satisfied: idna<3,>=2.5 in c:\\users\\diego\\anaconda3\\lib\\site-packages (from requests) (2.10)\n",
      "Requirement already satisfied: urllib3<1.27,>=1.21.1 in c:\\users\\diego\\anaconda3\\lib\\site-packages (from requests) (1.26.14)\n",
      "Requirement already satisfied: chardet<5,>=3.0.2 in c:\\users\\diego\\anaconda3\\lib\\site-packages (from requests) (4.0.0)\n",
      "Requirement already satisfied: certifi>=2017.4.17 in c:\\users\\diego\\anaconda3\\lib\\site-packages (from requests) (2023.7.22)\n"
     ]
    }
   ],
   "source": [
    "# !pip install requests"
   ]
  },
  {
   "cell_type": "markdown",
   "metadata": {},
   "source": [
    "#### Librerías"
   ]
  },
  {
   "cell_type": "code",
   "execution_count": 24,
   "metadata": {},
   "outputs": [],
   "source": [
    "import datetime\n",
    "import hashlib\n",
    "import json\n",
    "from flask import Flask, jsonify, request\n",
    "from flask_ngrok import run_with_ngrok\n",
    "from urllib.parse import urlparse\n",
    "from uuid import uuid4"
   ]
  },
  {
   "cell_type": "markdown",
   "metadata": {},
   "source": [
    "## 2. Clase"
   ]
  },
  {
   "cell_type": "markdown",
   "metadata": {},
   "source": [
    "Creación de una clase Blockchain que contenga todos los métodos esenciales, como son los siguientes:     \n",
    "* Creación de un nuevo bloque.\n",
    "* Obtención del hash de un bloque.\n",
    "* Protocolo de concenso Proof of Work (PoW).\n",
    "* Generación del hash de un bloque.\n",
    "* Verificación de la validez de la Blockchain.\n",
    "* Añadir nueva transacción a la cadena de bloques\n",
    "* Añadir nuevo nodo a la cadena de bloques.\n",
    "* Reemplazar la Blockchain por la adecuada."
   ]
  },
  {
   "cell_type": "code",
   "execution_count": 25,
   "metadata": {},
   "outputs": [],
   "source": [
    "class Blockchain:\n",
    "\n",
    "  #Constructor de la clase Blockchain. \n",
    "  def __init__(self):\n",
    "    self.chain = []\n",
    "    self.transactions= []\n",
    "    self.create_block(proof = 1, previous_hash = '0')\n",
    "    self.nodes=set()\n",
    "      \n",
    "  #Creación de un nuevo bloque. Argumentos proof (nounce del bloque actual) y previous_hash (hash del bloque previo).\n",
    "  def create_block(self, proof, previous_hash):\n",
    "    block = { 'index'         : len(self.chain)+1,\n",
    "              'timestamp'     : str(datetime.datetime.now()),\n",
    "              'proof'         : proof,\n",
    "              'previous_hash' : previous_hash,\n",
    "              'transactions'  : self.transactions}\n",
    "    \n",
    "    #Vaciamos la lista de transacciones.\n",
    "    self.transactions=[]\n",
    "    self.chain.append(block)\n",
    "    return block\n",
    "\n",
    "  #Obtención del bloque anterior.\n",
    "  def get_previous_block(self):\n",
    "    return self.chain[-1]\n",
    "  \n",
    "  #Protocolo de concenso Proof of Work (PoW). Argumento previous_proof (nounce del bloque anterior).\n",
    "  def proof_of_work(self, previous_proof):\n",
    "    new_proof = 1\n",
    "    check_proof = False\n",
    "    while check_proof is False:\n",
    "        hash_operation = hashlib.sha256(str(new_proof**2 - previous_proof**2).encode()).hexdigest()\n",
    "        if hash_operation[:4] == '0000':\n",
    "            check_proof = True\n",
    "        else: \n",
    "            new_proof += 1\n",
    "\n",
    "    #Devolvemos el nuevo nounce.\n",
    "    return new_proof\n",
    "  \n",
    "  #Cálculo del hash de un bloque.\n",
    "  def hash(self, block):\n",
    "    encoded_block = json.dumps(block, sort_keys = True).encode()\n",
    "    hash_block = hashlib.sha256(encoded_block).hexdigest()\n",
    "    return hash_block\n",
    "  \n",
    "  #Determinación de validez de blockchain.\n",
    "  def is_chain_valid(self, chain):\n",
    "    previous_block = chain[0]\n",
    "    block_index = 1\n",
    "    while block_index < len(chain):\n",
    "        block = chain[block_index]\n",
    "        if block['previous_hash'] != self.hash(previous_block):\n",
    "            return False\n",
    "        previous_proof = previous_block['proof']\n",
    "        proof = block['proof']\n",
    "        hash_operation = hashlib.sha256(str(proof**2 - previous_proof**2).encode()).hexdigest()\n",
    "        if hash_operation[:4] != '0000':\n",
    "            return False\n",
    "        previous_block = block\n",
    "        block_index += 1\n",
    "    return True\n",
    "  \n",
    "  #Transacciones.\n",
    "  def add_transaction(self,sender,receiver,amount):\n",
    "    self.transactions.append({'sender':sender,'receiver':receiver,'amount':amount})\n",
    "    previous_block=self.get_previous_block()\n",
    "    return previous_block['index']+1\n",
    "  \n",
    "  #Adición del nuevo nodo. Argumento address (su dirección).\n",
    "  def add_node(self,address):\n",
    "    parsed_url=urlparse(address)\n",
    "    self.nodes.add(parsed_url.netloc)\n",
    "    \n",
    "  #Reemplazo de la cadena por la cadena más larga, siempre y cuando sea válida\n",
    "  def replace_chain(self):\n",
    "    network=self.nodes\n",
    "    longest_chain=None\n",
    "    max_length=len(self.chain)\n",
    "    for node in network:\n",
    "      response=request.get(f'http://{node}/get_chain')\n",
    "      if response.status_code == 200:\n",
    "        lenght = response.json()['lenght']\n",
    "        chain = response.json()['chain']\n",
    "        if lenght > max_length and self.is_chain_valid(chain):\n",
    "          max_length=lenght\n",
    "          longest_chain=chain\n",
    "    if longest_chain:\n",
    "      self.chain=longest_chain\n",
    "      return True\n",
    "    return False\n",
    "        "
   ]
  },
  {
   "cell_type": "markdown",
   "metadata": {},
   "source": [
    "## 3. Minado de un bloque de la cadena"
   ]
  },
  {
   "cell_type": "markdown",
   "metadata": {},
   "source": [
    "##### Ejecución de la app con Notebook."
   ]
  },
  {
   "cell_type": "code",
   "execution_count": 26,
   "metadata": {},
   "outputs": [],
   "source": [
    "app = Flask(__name__)\n",
    "run_with_ngrok(app)  "
   ]
  },
  {
   "cell_type": "markdown",
   "metadata": {},
   "source": [
    "##### Si se obtiene un error 500, actualizar flask y ejecutar la siguente línea."
   ]
  },
  {
   "cell_type": "code",
   "execution_count": 27,
   "metadata": {},
   "outputs": [],
   "source": [
    "app.config['JSONIFY_PRETTYPRINT_REGULAR'] = False"
   ]
  },
  {
   "cell_type": "markdown",
   "metadata": {},
   "source": [
    "##### Creación de la dirección del nodo en el puerto 5000."
   ]
  },
  {
   "cell_type": "code",
   "execution_count": 28,
   "metadata": {},
   "outputs": [],
   "source": [
    "node_address=str(uuid4()).replace('-','')"
   ]
  },
  {
   "cell_type": "markdown",
   "metadata": {},
   "source": [
    "##### Creación de la blockchain."
   ]
  },
  {
   "cell_type": "code",
   "execution_count": 29,
   "metadata": {},
   "outputs": [],
   "source": [
    "blockchain = Blockchain()"
   ]
  },
  {
   "cell_type": "markdown",
   "metadata": {},
   "source": [
    "##### Minado de un nuevo bloque."
   ]
  },
  {
   "cell_type": "code",
   "execution_count": 30,
   "metadata": {},
   "outputs": [],
   "source": [
    "@app.route('/mine_block', methods=['GET'])\n",
    "def mine_block():\n",
    "  previous_block = blockchain.get_previous_block()\n",
    "  previous_proof = previous_block['proof']\n",
    "  proof = blockchain.proof_of_work(previous_proof)\n",
    "  previous_hash = blockchain.hash(previous_block)\n",
    "  blockchain.add_transaction(sender=node_address,receiver='Diego Rodríguez',amount=10)\n",
    "  block = blockchain.create_block(proof, previous_hash)\n",
    "  response = {'message'       : '¡Enhorabuena, has minado un nuevo bloque!', \n",
    "              'index'         : block['index'],\n",
    "              'timestamp'     : block['timestamp'],\n",
    "              'proof'         : block['proof'],\n",
    "              'previous_hash' : block['previous_hash'],\n",
    "              'transactions'  : block['transactions']}\n",
    "  return jsonify(response), 200"
   ]
  },
  {
   "cell_type": "markdown",
   "metadata": {},
   "source": [
    "##### Obtención de la Blockchain."
   ]
  },
  {
   "cell_type": "code",
   "execution_count": 31,
   "metadata": {},
   "outputs": [],
   "source": [
    "@app.route('/get_chain', methods=['GET'])\n",
    "def get_chain():\n",
    "  response = {'chain' : blockchain.chain, \n",
    "              'length' : len(blockchain.chain)}\n",
    "  return jsonify(response), 200"
   ]
  },
  {
   "cell_type": "markdown",
   "metadata": {},
   "source": [
    "##### Comprobación de si es válida."
   ]
  },
  {
   "cell_type": "code",
   "execution_count": 32,
   "metadata": {},
   "outputs": [],
   "source": [
    "@app.route('/is_valid', methods = ['GET'])\n",
    "def is_valid():\n",
    "  is_valid = blockchain.is_chain_valid(blockchain.chain)\n",
    "  if is_valid:\n",
    "      response = {'message' : '¡La cadena de bloques es válida!'}\n",
    "  else:\n",
    "      response = {'message' : '¡La cadena de bloques NO es válida!'}\n",
    "  return jsonify(response), 200  \n"
   ]
  },
  {
   "cell_type": "markdown",
   "metadata": {},
   "source": [
    "##### Adición de una nueva transacción a la cadena de bloques."
   ]
  },
  {
   "cell_type": "code",
   "execution_count": 33,
   "metadata": {},
   "outputs": [],
   "source": [
    "@app.route('/add_transaction',methods = ['POST'])\n",
    "def add_transaction():\n",
    "  json=request.get_json()\n",
    "  transactions_keys=['sender','receiver','amount']\n",
    "  if not all(key in json for key in transactions_keys):\n",
    "    return 'Faltan algunos elementos de la transacción', 400\n",
    "  index=blockchain.add_transaction(json['sender'],json['receiver'],json['amount'])\n",
    "  response={'message': f'La transacción será añadida al bloque'}\n",
    "  return jsonify(response),201"
   ]
  },
  {
   "cell_type": "markdown",
   "metadata": {},
   "source": [
    "##### Conectar nuevos nodos."
   ]
  },
  {
   "cell_type": "code",
   "execution_count": 34,
   "metadata": {},
   "outputs": [],
   "source": [
    "@app.route('/connect_node', methods = ['POST'])\n",
    "def connect_node():\n",
    "  json = request.get_json()\n",
    "  nodes = json.get('nodes')\n",
    "  if nodes is None: \n",
    "      return 'No hay nodos para añadir', 400\n",
    "  for node in nodes:\n",
    "      blockchain.add_node(node)\n",
    "  response = {'message'     : 'Todos los nodos han sido conectados. La Blockchain de JoanCoins contiene ahora los nodos siguientes: ',\n",
    "              'total_nodes' : list(blockchain.nodes)}\n",
    "  return jsonify(response), 201"
   ]
  },
  {
   "cell_type": "markdown",
   "metadata": {},
   "source": [
    "##### Reemplazo de la cadena por la más larga (en caso de ser necesario)."
   ]
  },
  {
   "cell_type": "code",
   "execution_count": 35,
   "metadata": {},
   "outputs": [],
   "source": [
    "@app.route('/replace_chain', methods = ['GET'])\n",
    "def replace_chain():\n",
    "  is_chain_replaced = blockchain.replace_chain()\n",
    "  if is_chain_replaced:\n",
    "      response = {'message' : 'Los nodos tenían diferentes cadenas, se ha remplazado por la Blockchain más larga.',\n",
    "                  'new_chain': blockchain.chain}\n",
    "  else:\n",
    "      response = {'message' : 'Todo correcto. La Blockchain en todos los nodos ya es la más larga.',\n",
    "                  'actual_chain' : blockchain.chain}\n",
    "  return jsonify(response), 200  "
   ]
  },
  {
   "cell_type": "markdown",
   "metadata": {},
   "source": [
    "## 4. Ejecución de la app"
   ]
  },
  {
   "cell_type": "code",
   "execution_count": 36,
   "metadata": {},
   "outputs": [
    {
     "name": "stdout",
     "output_type": "stream",
     "text": [
      " * Serving Flask app '__main__'\n",
      " * Debug mode: off\n"
     ]
    },
    {
     "name": "stderr",
     "output_type": "stream",
     "text": [
      "WARNING: This is a development server. Do not use it in a production deployment. Use a production WSGI server instead.\n",
      " * Running on http://127.0.0.1:5000\n",
      "Press CTRL+C to quit\n"
     ]
    },
    {
     "name": "stdout",
     "output_type": "stream",
     "text": [
      " * Running on http://5c17-80-26-196-75.ngrok.io\n",
      " * Traffic stats available on http://127.0.0.1:4040\n"
     ]
    }
   ],
   "source": [
    "app.run()\n",
    "\n",
    "#app.run(host = '0.0.0.0', port = 5000)"
   ]
  }
 ],
 "metadata": {
  "kernelspec": {
   "display_name": "base",
   "language": "python",
   "name": "python3"
  },
  "language_info": {
   "codemirror_mode": {
    "name": "ipython",
    "version": 3
   },
   "file_extension": ".py",
   "mimetype": "text/x-python",
   "name": "python",
   "nbconvert_exporter": "python",
   "pygments_lexer": "ipython3",
   "version": "3.10.9"
  }
 },
 "nbformat": 4,
 "nbformat_minor": 2
}
