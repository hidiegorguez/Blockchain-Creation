{
 "cells": [
  {
   "cell_type": "markdown",
   "metadata": {},
   "source": [
    "# Construcción de Blockchain con Python\n",
    "\n",
    "Diego Rodríguez García. 15/10/2023."
   ]
  },
  {
   "cell_type": "markdown",
   "metadata": {},
   "source": [
    "## 1. Ajustes"
   ]
  },
  {
   "cell_type": "markdown",
   "metadata": {},
   "source": [
    "### `1.1. Instalaciones`"
   ]
  },
  {
   "cell_type": "code",
   "execution_count": 1,
   "metadata": {},
   "outputs": [
    {
     "name": "stdout",
     "output_type": "stream",
     "text": [
      "Requirement already satisfied: flask-ngrok==0.0.25 in c:\\users\\diego\\anaconda3\\lib\\site-packages (0.0.25)\n",
      "Requirement already satisfied: requests in c:\\users\\diego\\anaconda3\\lib\\site-packages (from flask-ngrok==0.0.25) (2.28.1)\n",
      "Requirement already satisfied: Flask>=0.8 in c:\\users\\diego\\anaconda3\\lib\\site-packages (from flask-ngrok==0.0.25) (2.2.2)\n",
      "Requirement already satisfied: itsdangerous>=2.0 in c:\\users\\diego\\anaconda3\\lib\\site-packages (from Flask>=0.8->flask-ngrok==0.0.25) (2.0.1)\n",
      "Requirement already satisfied: Werkzeug>=2.2.2 in c:\\users\\diego\\anaconda3\\lib\\site-packages (from Flask>=0.8->flask-ngrok==0.0.25) (2.2.2)\n",
      "Requirement already satisfied: click>=8.0 in c:\\users\\diego\\anaconda3\\lib\\site-packages (from Flask>=0.8->flask-ngrok==0.0.25) (8.0.4)\n",
      "Requirement already satisfied: Jinja2>=3.0 in c:\\users\\diego\\anaconda3\\lib\\site-packages (from Flask>=0.8->flask-ngrok==0.0.25) (3.1.2)\n",
      "Requirement already satisfied: charset-normalizer<3,>=2 in c:\\users\\diego\\anaconda3\\lib\\site-packages (from requests->flask-ngrok==0.0.25) (2.0.4)\n",
      "Requirement already satisfied: idna<4,>=2.5 in c:\\users\\diego\\anaconda3\\lib\\site-packages (from requests->flask-ngrok==0.0.25) (3.4)\n",
      "Requirement already satisfied: certifi>=2017.4.17 in c:\\users\\diego\\anaconda3\\lib\\site-packages (from requests->flask-ngrok==0.0.25) (2023.7.22)\n",
      "Requirement already satisfied: urllib3<1.27,>=1.21.1 in c:\\users\\diego\\anaconda3\\lib\\site-packages (from requests->flask-ngrok==0.0.25) (1.26.14)\n",
      "Requirement already satisfied: colorama in c:\\users\\diego\\anaconda3\\lib\\site-packages (from click>=8.0->Flask>=0.8->flask-ngrok==0.0.25) (0.4.6)\n",
      "Requirement already satisfied: MarkupSafe>=2.0 in c:\\users\\diego\\anaconda3\\lib\\site-packages (from Jinja2>=3.0->Flask>=0.8->flask-ngrok==0.0.25) (2.1.1)\n"
     ]
    }
   ],
   "source": [
    "!pip install flask-ngrok==0.0.25"
   ]
  },
  {
   "cell_type": "markdown",
   "metadata": {},
   "source": [
    "### `1.2. Librerías`"
   ]
  },
  {
   "cell_type": "code",
   "execution_count": 2,
   "metadata": {},
   "outputs": [],
   "source": [
    "import datetime\n",
    "import hashlib\n",
    "import json\n",
    "from flask import Flask, jsonify\n",
    "from flask_ngrok import run_with_ngrok"
   ]
  },
  {
   "cell_type": "markdown",
   "metadata": {},
   "source": [
    "## 2. Clase"
   ]
  },
  {
   "cell_type": "markdown",
   "metadata": {},
   "source": [
    "Creación de una clase Blockchain que contenga todos los métodos esenciales, como son los siguientes:     \n",
    "* Creación de un nuevo bloque\n",
    "* Obtención del hash de un bloque\n",
    "* Protocolo de concenso Proof of Work (PoW)\n",
    "* Generación del hash de un bloque\n",
    "* Verificación de la validez de la Blockchain"
   ]
  },
  {
   "cell_type": "code",
   "execution_count": 3,
   "metadata": {},
   "outputs": [],
   "source": [
    "class Blockchain:\n",
    "\n",
    "  #Constructor de la clase Blockchain. \n",
    "  def __init__(self):\n",
    "    self.chain = []\n",
    "    self.create_block(proof = 1, previous_hash = '0')\n",
    "      \n",
    "  #Creación de un nuevo bloque. Argumentos proof (nounce del bloque actual) y previous_hash (hash del bloque previo).\n",
    "  def create_block(self, proof, previous_hash):\n",
    "    block = { 'index'         : len(self.chain)+1,\n",
    "              'timestamp'     : str(datetime.datetime.now()),\n",
    "              'proof'         : proof,\n",
    "              'previous_hash' : previous_hash}\n",
    "    self.chain.append(block)\n",
    "\n",
    "    #Devolvemos el bloque creado\n",
    "    return block\n",
    "\n",
    "  #Obtención del bloque anterior.\n",
    "  def get_previous_block(self):\n",
    "    return self.chain[-1]\n",
    "  \n",
    "  #Protocolo de concenso Proof of Work (PoW). Argumento previous_proof (nounce del bloque anterior).\n",
    "  def proof_of_work(self, previous_proof):\n",
    "    new_proof = 1\n",
    "    check_proof = False\n",
    "    while check_proof is False:\n",
    "        hash_operation = hashlib.sha256(str(new_proof**2 - previous_proof**2).encode()).hexdigest()\n",
    "        if hash_operation[:4] == '0000':\n",
    "            check_proof = True\n",
    "        else: \n",
    "            new_proof += 1\n",
    "\n",
    "    #Devolvemos el nuevo nounce.\n",
    "    return new_proof\n",
    "  \n",
    "  #Cálculo del hash de un bloque.\n",
    "  def hash(self, block):\n",
    "    encoded_block = json.dumps(block, sort_keys = True).encode()\n",
    "    hash_block = hashlib.sha256(encoded_block).hexdigest()\n",
    "    return hash_block\n",
    "  \n",
    "  #Determinación de validez de blockchain.\n",
    "  def is_chain_valid(self, chain):\n",
    "    previous_block = chain[0]\n",
    "    block_index = 1\n",
    "    while block_index < len(chain):\n",
    "        block = chain[block_index]\n",
    "        if block['previous_hash'] != self.hash(previous_block):\n",
    "            return False\n",
    "        previous_proof = previous_block['proof']\n",
    "        proof = block['proof']\n",
    "        hash_operation = hashlib.sha256(str(proof**2 - previous_proof**2).encode()).hexdigest()\n",
    "        if hash_operation[:4] != '0000':\n",
    "            return False\n",
    "        previous_block = block\n",
    "        block_index += 1\n",
    "    return True"
   ]
  },
  {
   "cell_type": "markdown",
   "metadata": {},
   "source": [
    "## 3. Aplicación"
   ]
  },
  {
   "cell_type": "markdown",
   "metadata": {},
   "source": [
    "Aplicación Web accesible vía en modo de REST API. Mediante llamadas HTTP al REST API podemos establecer uan comunicación con el uso del módulo de Flask. \n",
    "\n",
    "Llamadas a realizar vía REST API:\n",
    "* Minación de bloques: **mine_block()**\n",
    "* Obtención de la Blockchain: **get_chain()**\n",
    "* Comprobar estado de la Blockchain: **is_valid()**"
   ]
  },
  {
   "cell_type": "code",
   "execution_count": 4,
   "metadata": {},
   "outputs": [],
   "source": [
    "#Crear una aplicación web\n",
    "\n",
    "#Ejecución de la app con Notebook\n",
    "app = Flask(__name__)\n",
    "run_with_ngrok(app)  \n",
    "\n",
    "#Si se obtiene un error 500, actualizar flask y ejecutar la siguiente línea\n",
    "app.config['JSONIFY_PRETTYPRINT_REGULAR'] = False\n",
    "\n",
    "#Creación de la Blockchain\n",
    "blockchain = Blockchain()\n",
    "\n",
    "\n",
    "@app.route('/mine_block', methods=['GET'])\n",
    "def mine_block():\n",
    "  \"\"\" Minado de un nuevo bloque \"\"\"\n",
    "\n",
    "  previous_block  = blockchain.get_previous_block()\n",
    "  previous_proof  = previous_block['proof']\n",
    "  proof           = blockchain.proof_of_work(previous_proof)\n",
    "  previous_hash   = blockchain.hash(previous_block)\n",
    "  block           = blockchain.create_block(proof, previous_hash)\n",
    "  response = {'message'       : '¡Enhorabuena, has minado un nuevo bloque!', \n",
    "              'index'         : block['index'],\n",
    "              'timestamp'     : block['timestamp'],\n",
    "              'proof'         : block['proof'],\n",
    "              'previous_hash' : block['previous_hash']}\n",
    "  return jsonify(response), 200\n",
    "\n",
    "@app.route('/get_chain', methods=['GET'])\n",
    "def get_chain():\n",
    "  \"\"\" Obtención de la Blockchain \"\"\"\n",
    "  response = {'chain'   : blockchain.chain, \n",
    "              'length'  : len(blockchain.chain)}\n",
    "  return jsonify(response), 200\n",
    "\n",
    "@app.route('/is_valid', methods = ['GET'])\n",
    "def is_valid():\n",
    "  \"\"\" Comprobación si la Blockchain es válida \"\"\"\n",
    "\n",
    "  is_valid = blockchain.is_chain_valid(blockchain.chain)\n",
    "  if is_valid:\n",
    "      response = {'message' : '¡La cadena de bloques es válida!'}\n",
    "  else:\n",
    "      response = {'message' : '¡La cadena de bloques NO es válida!'}\n",
    "  return jsonify(response), 200  "
   ]
  },
  {
   "cell_type": "markdown",
   "metadata": {},
   "source": [
    "## 4. Llamada"
   ]
  },
  {
   "cell_type": "code",
   "execution_count": 5,
   "metadata": {},
   "outputs": [
    {
     "name": "stdout",
     "output_type": "stream",
     "text": [
      " * Serving Flask app '__main__'\n",
      " * Debug mode: off\n"
     ]
    },
    {
     "name": "stderr",
     "output_type": "stream",
     "text": [
      "WARNING: This is a development server. Do not use it in a production deployment. Use a production WSGI server instead.\n",
      " * Running on http://127.0.0.1:5000\n",
      "Press CTRL+C to quit\n"
     ]
    },
    {
     "name": "stdout",
     "output_type": "stream",
     "text": [
      " * Running on http://dd54-80-26-196-216.ngrok.io\n",
      " * Traffic stats available on http://127.0.0.1:4040\n"
     ]
    },
    {
     "name": "stderr",
     "output_type": "stream",
     "text": [
      "127.0.0.1 - - [15/Oct/2023 13:12:06] \"GET / HTTP/1.1\" 404 -\n",
      "127.0.0.1 - - [15/Oct/2023 13:12:46] \"GET /mine_block HTTP/1.1\" 200 -\n",
      "127.0.0.1 - - [15/Oct/2023 13:13:32] \"GET /mine_block HTTP/1.1\" 200 -\n",
      "127.0.0.1 - - [15/Oct/2023 13:13:34] \"GET /mine_block HTTP/1.1\" 200 -\n",
      "127.0.0.1 - - [15/Oct/2023 13:13:35] \"GET /mine_block HTTP/1.1\" 200 -\n",
      "127.0.0.1 - - [15/Oct/2023 13:13:37] \"GET /mine_block HTTP/1.1\" 200 -\n",
      "127.0.0.1 - - [15/Oct/2023 13:13:39] \"GET /mine_block HTTP/1.1\" 200 -\n",
      "127.0.0.1 - - [15/Oct/2023 13:13:41] \"GET /mine_block HTTP/1.1\" 200 -\n",
      "127.0.0.1 - - [15/Oct/2023 13:13:43] \"GET /mine_block HTTP/1.1\" 200 -\n",
      "127.0.0.1 - - [15/Oct/2023 13:13:44] \"GET /mine_block HTTP/1.1\" 200 -\n",
      "127.0.0.1 - - [15/Oct/2023 13:13:58] \"GET /get_chain HTTP/1.1\" 200 -\n",
      "127.0.0.1 - - [15/Oct/2023 13:15:03] \"GET /mine_block HTTP/1.1\" 200 -\n",
      "127.0.0.1 - - [15/Oct/2023 13:15:09] \"GET /mine_block HTTP/1.1\" 200 -\n",
      "127.0.0.1 - - [15/Oct/2023 13:15:12] \"GET /mine_block HTTP/1.1\" 200 -\n",
      "127.0.0.1 - - [15/Oct/2023 13:15:19] \"GET /get_chain HTTP/1.1\" 200 -\n",
      "127.0.0.1 - - [15/Oct/2023 13:15:38] \"GET /is_valid HTTP/1.1\" 200 -\n"
     ]
    }
   ],
   "source": [
    "app.run()"
   ]
  }
 ],
 "metadata": {
  "kernelspec": {
   "display_name": "base",
   "language": "python",
   "name": "python3"
  },
  "language_info": {
   "codemirror_mode": {
    "name": "ipython",
    "version": 3
   },
   "file_extension": ".py",
   "mimetype": "text/x-python",
   "name": "python",
   "nbconvert_exporter": "python",
   "pygments_lexer": "ipython3",
   "version": "3.10.9"
  }
 },
 "nbformat": 4,
 "nbformat_minor": 2
}
